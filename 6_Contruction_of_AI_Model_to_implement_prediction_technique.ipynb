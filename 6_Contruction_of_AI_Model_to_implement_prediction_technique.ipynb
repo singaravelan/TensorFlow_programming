{
  "nbformat": 4,
  "nbformat_minor": 0,
  "metadata": {
    "colab": {
      "provenance": [],
      "authorship_tag": "ABX9TyOHaU8Who99X9RjxUK3j9tA",
      "include_colab_link": true
    },
    "kernelspec": {
      "name": "python3",
      "display_name": "Python 3"
    },
    "language_info": {
      "name": "python"
    }
  },
  "cells": [
    {
      "cell_type": "markdown",
      "metadata": {
        "id": "view-in-github",
        "colab_type": "text"
      },
      "source": [
        "<a href=\"https://colab.research.google.com/github/singaravelan/TensorFlow_programming/blob/main/6_Contruction_of_AI_Model_to_implement_prediction_technique.ipynb\" target=\"_parent\"><img src=\"https://colab.research.google.com/assets/colab-badge.svg\" alt=\"Open In Colab\"/></a>"
      ]
    },
    {
      "cell_type": "markdown",
      "source": [
        "Load Handwriting Recognition Model"
      ],
      "metadata": {
        "id": "vbjfjIAlYr8A"
      }
    },
    {
      "cell_type": "code",
      "source": [
        "from tensorflow.keras.preprocessing.image import load_img, img_to_array\n",
        "import pathlib\n",
        "import os\n",
        "import pickle\n",
        "import tensorflow as tf\n",
        "import numpy as np"
      ],
      "metadata": {
        "id": "ESAVQhixUSl-"
      },
      "execution_count": 18,
      "outputs": []
    },
    {
      "cell_type": "code",
      "source": [
        "os.makedirs('testing_images', exist_ok=True)\n",
        "os.makedirs('loaded_model', exist_ok=True)"
      ],
      "metadata": {
        "id": "rC_81R8QUWJG"
      },
      "execution_count": 3,
      "outputs": []
    },
    {
      "cell_type": "code",
      "execution_count": 14,
      "metadata": {
        "id": "D4kXk3UVTTQH"
      },
      "outputs": [],
      "source": [
        "# Load model architecture from the file\n",
        "with open('/content/loaded_model/my_mnist_model_architecture.pkl', 'rb') as f:\n",
        "    loaded_model_json = pickle.load(f)\n",
        "\n",
        "# Build model from the loaded architecture\n",
        "loaded_model = tf.keras.models.model_from_json(loaded_model_json)\n",
        "\n",
        "# Load model weights\n",
        "\n",
        "loaded_model.load_weights('/content/loaded_model/my_mnist_model_weights.h5')"
      ]
    },
    {
      "cell_type": "code",
      "source": [
        "model = loaded_model"
      ],
      "metadata": {
        "id": "RY5IzVvMYdWT"
      },
      "execution_count": 15,
      "outputs": []
    },
    {
      "cell_type": "code",
      "source": [
        "\n",
        "# Replace '/tmp/images' with the actual path to your directory containing test images\n",
        "image_directory = pathlib.Path('testing_images')\n",
        "images = os.listdir(image_directory)\n",
        "\n",
        "for i in images:\n",
        "    # predicting images\n",
        "    path = os.path.join(image_directory, i)\n",
        "    img = load_img(path, target_size=(28, 28), color_mode='grayscale')  # Adjust target_size and color_mode as needed\n",
        "    x = img_to_array(img)\n",
        "    x /= 255.0\n",
        "    x = np.expand_dims(x, axis=0)\n",
        "\n",
        "    images = np.vstack([x])\n",
        "    classes = model.predict(images, batch_size=10)\n",
        "\n",
        "    # Assuming it's a classification task, you can get the predicted class index\n",
        "    predicted_class = np.argmax(classes, axis=1)[0]\n",
        "\n",
        "    print(f\"Image: {i}, Predicted Class: {predicted_class}\")"
      ],
      "metadata": {
        "colab": {
          "base_uri": "https://localhost:8080/"
        },
        "id": "_M07JSC2TWlq",
        "outputId": "ee9969ed-f087-4ed2-f07e-f62555e86f34"
      },
      "execution_count": 19,
      "outputs": [
        {
          "output_type": "stream",
          "name": "stdout",
          "text": [
            "1/1 [==============================] - 0s 245ms/step\n",
            "Image: 0 - 9 ! Handwritten 2.png, Predicted Class: 1\n"
          ]
        }
      ]
    },
    {
      "cell_type": "code",
      "source": [],
      "metadata": {
        "id": "q9oRCTC0Yf7C"
      },
      "execution_count": null,
      "outputs": []
    }
  ]
}