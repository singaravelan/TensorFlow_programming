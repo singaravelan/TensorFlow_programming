{
 "cells": [
  {
   "cell_type": "code",
   "execution_count": 2,
   "metadata": {},
   "outputs": [],
   "source": [
    "import pandas as pd\n",
    "from sklearn.feature_extraction.text import TfidfVectorizer\n",
    "from sklearn.metrics.pairwise import linear_kernel"
   ]
  },
  {
   "cell_type": "code",
   "execution_count": 5,
   "metadata": {},
   "outputs": [],
   "source": [
    "# Load the MovieLens 100K dataset\n",
    "url = 'http://files.grouplens.org/datasets/movielens/ml-100k/u.item'\n",
    "columns = ['item_id', 'title', 'release_date', 'video_release_date', 'imdb_url', 'unknown', 'Action', 'Adventure', 'Animation', 'Children', 'Comedy', 'Crime', 'Documentary', 'Drama', 'Fantasy', 'Film-Noir', 'Horror', 'Musical', 'Mystery', 'Romance', 'Sci-Fi', 'Thriller', 'War', 'Western']\n",
    "df_movies = pd.read_csv(url, sep='|', names=columns, encoding='latin-1')\n",
    "\n",
    "# Drop unnecessary columns\n",
    "df_movies = df_movies[['item_id', 'title', 'unknown', 'Action', 'Adventure', 'Animation', 'Children', 'Comedy', 'Crime', 'Documentary', 'Drama', 'Fantasy', 'Film-Noir', 'Horror', 'Musical', 'Mystery', 'Romance', 'Sci-Fi', 'Thriller', 'War', 'Western']]\n",
    "\n",
    "# Merge movie and ratings data\n",
    "url_ratings = 'http://files.grouplens.org/datasets/movielens/ml-100k/u.data'\n",
    "columns_ratings = ['user_id', 'item_id', 'rating', 'timestamp']\n",
    "df_ratings = pd.read_csv(url_ratings, sep='\\t', names=columns_ratings)\n",
    "\n",
    "df = pd.merge(df_ratings, df_movies, on='item_id')\n",
    "df = df.head(10000)"
   ]
  },
  {
   "cell_type": "markdown",
   "metadata": {},
   "source": [
    "## Example of Linear Kernel in Movie Recommendations\n",
    "\n",
    "In the context of movie recommendations using content-based filtering with a linear kernel, let's consider a simplified scenario where movies are represented by two features: \"Action\" and \"Comedy\". These features indicate whether a movie belongs to the Action or Comedy genre.\n",
    "\n",
    "Assuming we have two movies:\n",
    "\n",
    "1. **Movie X:** Action = 1, Comedy = 0\n",
    "2. **Movie Y:** Action = 0, Comedy = 1\n",
    "\n",
    "The feature vectors representing the movies are:\n",
    "\n",
    "X = [1, 0]\n",
    "\n",
    "Y = [0, 1]\n",
    "\n",
    "Now, let's calculate the linear kernel between these two movies:\n",
    "\n",
    "K(X, Y) = X * Y = (1 * 0) + (0 * 1) = 0\n",
    "\n",
    "In this case, the linear kernel is 0, indicating that the movies are dissimilar in terms of the \"Action\" and \"Comedy\" features.\n",
    "\n",
    "Now, let's consider two other movies:\n",
    "\n",
    "3. **Movie Z:** Action = 1, Comedy = 1\n",
    "4. **Movie W:** Action = 1, Comedy = 1\n",
    "\n",
    "The feature vectors are:\n",
    "\n",
    "Z = [1, 1]\n",
    "\n",
    "W = [1, 1]\n",
    "\n",
    "Now, calculate the linear kernel between these two movies:\n",
    "\n",
    "K(Z, W) = Z * W = (1 * 1) + (1 * 1) = 2\n",
    "\n",
    "In this case, the linear kernel is 2, indicating that the movies are more similar in terms of the \"Action\" and \"Comedy\" features compared to the previous pair.\n"
   ]
  },
  {
   "cell_type": "code",
   "execution_count": 6,
   "metadata": {},
   "outputs": [],
   "source": [
    "\n",
    "# Convert genres to a space-separated string\n",
    "df['genres'] = df.iloc[:, 2:].apply(lambda x: ' '.join(x.index[x == 1]), axis=1)\n",
    "\n",
    "# TF-IDF Vectorization of movie genres\n",
    "tfidf_vectorizer = TfidfVectorizer(stop_words='english')\n",
    "tfidf_matrix = tfidf_vectorizer.fit_transform(df['genres'])\n",
    "\n",
    "# Compute the cosine similarity matrix\n",
    "cosine_sim = linear_kernel(tfidf_matrix, tfidf_matrix)"
   ]
  },
  {
   "cell_type": "code",
   "execution_count": 7,
   "metadata": {},
   "outputs": [],
   "source": [
    "# Function to get movie recommendations based on content\n",
    "def get_content_based_recommendations(movie_title, cosine_sim_matrix, df_movies):\n",
    "    # Get the index of the movie in the dataframe\n",
    "    idx = df_movies.index[df_movies['title'] == movie_title].tolist()[0]\n",
    "\n",
    "    # Get the pairwise similarity scores with other movies\n",
    "    sim_scores = list(enumerate(cosine_sim_matrix[idx]))\n",
    "\n",
    "    # Sort the movies based on the similarity scores\n",
    "    sim_scores = sorted(sim_scores, key=lambda x: x[1], reverse=True)\n",
    "\n",
    "    # Get the movie indices of the top 10 similar movies\n",
    "    movie_indices = [i[0] for i in sim_scores[1:11]]\n",
    "\n",
    "    # Return the top 10 similar movies\n",
    "    return df_movies['title'].iloc[movie_indices]"
   ]
  },
  {
   "cell_type": "code",
   "execution_count": 9,
   "metadata": {},
   "outputs": [
    {
     "name": "stdout",
     "output_type": "stream",
     "text": [
      "Content-based recommendations for 'Get Shorty (1995)':\n",
      "1                                      GoldenEye (1995)\n",
      "2                                     Four Rooms (1995)\n",
      "3                                     Get Shorty (1995)\n",
      "4                                        Copycat (1995)\n",
      "5     Shanghai Triad (Yao a yao yao dao waipo qiao) ...\n",
      "6                                 Twelve Monkeys (1995)\n",
      "7                                           Babe (1995)\n",
      "8                               Dead Man Walking (1995)\n",
      "9                                    Richard III (1995)\n",
      "10                                 Seven (Se7en) (1995)\n",
      "Name: title, dtype: object\n"
     ]
    }
   ],
   "source": [
    "# Example: Get content-based recommendations for a movie\n",
    "movie_to_recommend = 'Get Shorty (1995)'\n",
    "content_based_recommendations = get_content_based_recommendations(movie_to_recommend, cosine_sim, df_movies)\n",
    "\n",
    "print(f\"Content-based recommendations for '{movie_to_recommend}':\")\n",
    "print(content_based_recommendations)"
   ]
  },
  {
   "cell_type": "code",
   "execution_count": null,
   "metadata": {},
   "outputs": [],
   "source": []
  },
  {
   "cell_type": "code",
   "execution_count": null,
   "metadata": {},
   "outputs": [],
   "source": []
  }
 ],
 "metadata": {
  "kernelspec": {
   "display_name": "ml_env",
   "language": "python",
   "name": "python3"
  },
  "language_info": {
   "codemirror_mode": {
    "name": "ipython",
    "version": 3
   },
   "file_extension": ".py",
   "mimetype": "text/x-python",
   "name": "python",
   "nbconvert_exporter": "python",
   "pygments_lexer": "ipython3",
   "version": "3.11.5"
  }
 },
 "nbformat": 4,
 "nbformat_minor": 2
}
