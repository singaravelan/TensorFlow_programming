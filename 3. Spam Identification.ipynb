{
  "cells": [
    {
      "cell_type": "markdown",
      "metadata": {
        "id": "view-in-github",
        "colab_type": "text"
      },
      "source": [
        "<a href=\"https://colab.research.google.com/github/singaravelan/TensorFlow_programming/blob/main/3.%20Spam%20Identification.ipynb\" target=\"_parent\"><img src=\"https://colab.research.google.com/assets/colab-badge.svg\" alt=\"Open In Colab\"/></a>"
      ]
    },
    {
      "cell_type": "code",
      "execution_count": null,
      "metadata": {
        "id": "S2zgkfXEMawX"
      },
      "outputs": [],
      "source": [
        "import pandas as pd\n",
        "from sklearn.model_selection import train_test_split\n",
        "from tensorflow.keras.preprocessing.text import Tokenizer\n",
        "from tensorflow.keras.preprocessing.sequence import pad_sequences\n",
        "from tensorflow.keras.models import Sequential\n",
        "from tensorflow.keras.layers import Embedding, LSTM, Dense\n",
        "import numpy as np"
      ]
    },
    {
      "cell_type": "code",
      "execution_count": null,
      "metadata": {
        "id": "B3DSw3FeMawa",
        "outputId": "8ebf4d16-619d-4e6a-876b-a64938bf5da0"
      },
      "outputs": [
        {
          "name": "stdout",
          "output_type": "stream",
          "text": [
            "Data downloaded and extracted to: data\n"
          ]
        }
      ],
      "source": [
        "import os\n",
        "import zipfile\n",
        "import wget\n",
        "\n",
        "# Specify the URL and destination folder\n",
        "download_url = 'https://www.dropbox.com/scl/fi/rogllgwop25frgcvdbl1c/spam.csv.zip?rlkey=2hk62gqdxtlhtyy3vj1w2m1fa&raw=1'\n",
        "destination_folder = 'data'\n",
        "\n",
        "# Create the destination folder if it doesn't exist\n",
        "if not os.path.exists(destination_folder):\n",
        "    os.makedirs(destination_folder)\n",
        "\n",
        "# Download the file using wget\n",
        "zip_file_path = os.path.join(destination_folder, 'spam.csv.zip')\n",
        "wget.download(download_url, zip_file_path)\n",
        "\n",
        "# Extract the contents of the zip file\n",
        "with zipfile.ZipFile(zip_file_path, 'r') as zip_ref:\n",
        "    zip_ref.extractall(destination_folder)\n",
        "\n",
        "# Remove the downloaded zip file if needed\n",
        "os.remove(zip_file_path)\n",
        "\n",
        "print(f'Data downloaded and extracted to: {destination_folder}')"
      ]
    },
    {
      "cell_type": "code",
      "execution_count": null,
      "metadata": {
        "id": "jUogPKKfMawd"
      },
      "outputs": [],
      "source": [
        "# Load the data\n",
        "data = pd.read_csv('/Users/singaravelang/Documents/Learning/Workshop/data/spam.csv')"
      ]
    },
    {
      "cell_type": "code",
      "execution_count": null,
      "metadata": {
        "id": "VFMdESN-Mawd",
        "outputId": "08100fcd-efba-4fb8-85c9-df6e59772936"
      },
      "outputs": [
        {
          "data": {
            "text/html": [
              "<div>\n",
              "<style scoped>\n",
              "    .dataframe tbody tr th:only-of-type {\n",
              "        vertical-align: middle;\n",
              "    }\n",
              "\n",
              "    .dataframe tbody tr th {\n",
              "        vertical-align: top;\n",
              "    }\n",
              "\n",
              "    .dataframe thead th {\n",
              "        text-align: right;\n",
              "    }\n",
              "</style>\n",
              "<table border=\"1\" class=\"dataframe\">\n",
              "  <thead>\n",
              "    <tr style=\"text-align: right;\">\n",
              "      <th></th>\n",
              "      <th>Category</th>\n",
              "      <th>Message</th>\n",
              "      <th>Spam</th>\n",
              "    </tr>\n",
              "  </thead>\n",
              "  <tbody>\n",
              "    <tr>\n",
              "      <th>0</th>\n",
              "      <td>ham</td>\n",
              "      <td>Go until jurong point, crazy.. Available only ...</td>\n",
              "      <td>0</td>\n",
              "    </tr>\n",
              "    <tr>\n",
              "      <th>1</th>\n",
              "      <td>ham</td>\n",
              "      <td>Ok lar... Joking wif u oni...</td>\n",
              "      <td>0</td>\n",
              "    </tr>\n",
              "    <tr>\n",
              "      <th>2</th>\n",
              "      <td>spam</td>\n",
              "      <td>Free entry in 2 a wkly comp to win FA Cup fina...</td>\n",
              "      <td>1</td>\n",
              "    </tr>\n",
              "    <tr>\n",
              "      <th>3</th>\n",
              "      <td>ham</td>\n",
              "      <td>U dun say so early hor... U c already then say...</td>\n",
              "      <td>0</td>\n",
              "    </tr>\n",
              "    <tr>\n",
              "      <th>4</th>\n",
              "      <td>ham</td>\n",
              "      <td>Nah I don't think he goes to usf, he lives aro...</td>\n",
              "      <td>0</td>\n",
              "    </tr>\n",
              "  </tbody>\n",
              "</table>\n",
              "</div>"
            ],
            "text/plain": [
              "  Category                                            Message  Spam\n",
              "0      ham  Go until jurong point, crazy.. Available only ...     0\n",
              "1      ham                      Ok lar... Joking wif u oni...     0\n",
              "2     spam  Free entry in 2 a wkly comp to win FA Cup fina...     1\n",
              "3      ham  U dun say so early hor... U c already then say...     0\n",
              "4      ham  Nah I don't think he goes to usf, he lives aro...     0"
            ]
          },
          "execution_count": 10,
          "metadata": {},
          "output_type": "execute_result"
        }
      ],
      "source": [
        "data['Spam']=data['Category'].apply(lambda x:1 if x=='spam' else 0)\n",
        "data.head(5)"
      ]
    },
    {
      "cell_type": "code",
      "execution_count": null,
      "metadata": {
        "id": "1pAGWXIZMawe"
      },
      "outputs": [],
      "source": [
        "# Use 'Spam' column as the target variable\n",
        "X = data['Message']\n",
        "y = data['Spam']"
      ]
    },
    {
      "cell_type": "code",
      "execution_count": null,
      "metadata": {
        "id": "EOrB6EMWMawe"
      },
      "outputs": [],
      "source": [
        "# Tokenize and pad text messages\n",
        "max_words = 1000  # Consider only the top 1000 words in the dataset\n",
        "max_len = 150  # Set a maximum length for the messages\n",
        "\n",
        "tokenizer = Tokenizer(num_words=max_words, filters='!\"#$%&()*+,-./:;<=>?@[\\\\]^_`{|}~\\t\\n', lower=True)\n",
        "tokenizer.fit_on_texts(X)\n",
        "sequences = tokenizer.texts_to_sequences(X)\n",
        "X = pad_sequences(sequences, maxlen=max_len)"
      ]
    },
    {
      "cell_type": "code",
      "execution_count": null,
      "metadata": {
        "id": "yPoRpv41Mawf",
        "outputId": "2b0b0ba1-43a5-4181-f865-636c0a3a0451"
      },
      "outputs": [
        {
          "name": "stdout",
          "output_type": "stream",
          "text": [
            "[  0   0   0   0   0   0   0   0   0   0   0   0   0   0   0   0   0   0\n",
            "   0   0   0   0   0   0   0   0   0   0   0   0   0   0   0   0   0   0\n",
            "   0   0   0   0   0   0   0   0   0   0   0   0   0   0   0   0   0   0\n",
            "   0   0   0   0   0   0   0   0   0   0   0   0   0   0   0   0   0   0\n",
            "   0   0   0   0   0   0   0   0   0   0   0   0   0   0   0   0   0   0\n",
            "   0   0   0   0   0   0   0   0   0   0   0   0   0   0   0   0   0   0\n",
            "   0   0   0   0   0   0   0   0   0   0   0   0   0   0   0   0   0   0\n",
            "   0  47 489   8  19   4 796 901   2 175 659 261  71   2   2 337 489 555\n",
            " 960  73 390 179 660 391]\n"
          ]
        }
      ],
      "source": [
        "print(X[2])"
      ]
    },
    {
      "cell_type": "code",
      "execution_count": null,
      "metadata": {
        "id": "5arafivUMawg"
      },
      "outputs": [],
      "source": [
        "# Model Construction\n",
        "model = Sequential()\n",
        "model.add(Embedding(input_dim=max_words, output_dim=32, input_length=max_len))\n",
        "model.add(LSTM(100))\n",
        "model.add(Dense(1, activation='sigmoid'))"
      ]
    },
    {
      "cell_type": "code",
      "execution_count": null,
      "metadata": {
        "id": "WweIY61vMawg"
      },
      "outputs": [],
      "source": [
        "# Compile the model\n",
        "model.compile(optimizer='adam', loss='binary_crossentropy', metrics=['accuracy'])"
      ]
    },
    {
      "cell_type": "code",
      "execution_count": null,
      "metadata": {
        "id": "Gy71B5zjMawh"
      },
      "outputs": [],
      "source": [
        "# Split the data into training and testing sets\n",
        "X_train, X_test, y_train, y_test = train_test_split(X, y, test_size=0.2, random_state=42)"
      ]
    },
    {
      "cell_type": "code",
      "execution_count": null,
      "metadata": {
        "id": "MUjF7TUYMawh",
        "outputId": "bfdb4f32-9375-477c-a937-3095cd9d522d"
      },
      "outputs": [
        {
          "name": "stdout",
          "output_type": "stream",
          "text": [
            "Epoch 1/5\n",
            "112/112 [==============================] - 6s 47ms/step - loss: 0.2500 - accuracy: 0.9187 - val_loss: 0.1356 - val_accuracy: 0.9507\n",
            "Epoch 2/5\n",
            "112/112 [==============================] - 5s 45ms/step - loss: 0.0542 - accuracy: 0.9823 - val_loss: 0.0648 - val_accuracy: 0.9821\n",
            "Epoch 3/5\n",
            "112/112 [==============================] - 5s 46ms/step - loss: 0.0325 - accuracy: 0.9921 - val_loss: 0.0607 - val_accuracy: 0.9843\n",
            "Epoch 4/5\n",
            "112/112 [==============================] - 5s 46ms/step - loss: 0.0200 - accuracy: 0.9952 - val_loss: 0.0703 - val_accuracy: 0.9809\n",
            "Epoch 5/5\n",
            "112/112 [==============================] - 5s 46ms/step - loss: 0.0155 - accuracy: 0.9961 - val_loss: 0.0912 - val_accuracy: 0.9787\n"
          ]
        },
        {
          "data": {
            "text/plain": [
              "<keras.src.callbacks.History at 0x2986e6890>"
            ]
          },
          "execution_count": 16,
          "metadata": {},
          "output_type": "execute_result"
        }
      ],
      "source": [
        "# Train the model\n",
        "model.fit(X_train, y_train, epochs=5, batch_size=32, validation_split=0.2)"
      ]
    },
    {
      "cell_type": "code",
      "execution_count": null,
      "metadata": {
        "id": "PLnH-YmMMawi",
        "outputId": "f6d3ce17-36fe-47c2-eda4-456ba73398ff"
      },
      "outputs": [
        {
          "name": "stdout",
          "output_type": "stream",
          "text": [
            "35/35 [==============================] - 0s 14ms/step - loss: 0.0580 - accuracy: 0.9848\n",
            "Test Accuracy: 98.48%\n"
          ]
        }
      ],
      "source": [
        "# Evaluate the model on the testing data\n",
        "loss, accuracy = model.evaluate(X_test, y_test)\n",
        "print(f'Test Accuracy: {accuracy * 100:.2f}%')"
      ]
    },
    {
      "cell_type": "code",
      "execution_count": null,
      "metadata": {
        "id": "TmHIvK78Mawi",
        "outputId": "e0154489-50fa-447a-eab7-14242dd2e6e3"
      },
      "outputs": [
        {
          "name": "stdout",
          "output_type": "stream",
          "text": [
            "1/1 [==============================] - 0s 208ms/step\n",
            "Email: 'Sounds great! Are you home now?'\n",
            "Predicted Category: Ham\n",
            "\n",
            "Email: 'Will u meet ur dream partner soon? Is ur career off 2 a flyng start? 2 find out free, txt HORO followed by ur star sign, e. g. HORO ARIES'\n",
            "Predicted Category: Spam\n",
            "\n"
          ]
        }
      ],
      "source": [
        "# Preprocess the email messages\n",
        "email_messages = [\n",
        "    'Sounds great! Are you home now?',\n",
        "    'Will u meet ur dream partner soon? Is ur career off 2 a flyng start? 2 find out free, txt HORO followed by ur star sign, e. g. HORO ARIES'\n",
        "]\n",
        "\n",
        "# Tokenize and pad the email messages\n",
        "email_sequences = tokenizer.texts_to_sequences(email_messages)\n",
        "email_padded = pad_sequences(email_sequences, maxlen=max_len)\n",
        "\n",
        "# Make predictions using the trained model\n",
        "predictions = model.predict(email_padded)\n",
        "\n",
        "# Convert predicted probabilities to binary predictions (0 for ham, 1 for spam)\n",
        "binary_predictions = np.round(predictions).astype(int)\n",
        "\n",
        "# Display the results\n",
        "for i, message in enumerate(email_messages):\n",
        "    prediction_result = 'Spam' if binary_predictions[i] == 1 else 'Ham'\n",
        "    print(f\"Email: '{message}'\\nPredicted Category: {prediction_result}\\n\")"
      ]
    },
    {
      "cell_type": "code",
      "execution_count": null,
      "metadata": {
        "id": "c_AZrpYVMawj"
      },
      "outputs": [],
      "source": []
    }
  ],
  "metadata": {
    "kernelspec": {
      "display_name": "ml_env",
      "language": "python",
      "name": "python3"
    },
    "language_info": {
      "codemirror_mode": {
        "name": "ipython",
        "version": 3
      },
      "file_extension": ".py",
      "mimetype": "text/x-python",
      "name": "python",
      "nbconvert_exporter": "python",
      "pygments_lexer": "ipython3",
      "version": "3.11.5"
    },
    "colab": {
      "provenance": [],
      "include_colab_link": true
    }
  },
  "nbformat": 4,
  "nbformat_minor": 0
}