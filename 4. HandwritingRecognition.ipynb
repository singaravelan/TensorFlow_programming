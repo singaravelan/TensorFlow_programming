{
  "cells": [
    {
      "cell_type": "markdown",
      "metadata": {
        "id": "view-in-github",
        "colab_type": "text"
      },
      "source": [
        "<a href=\"https://colab.research.google.com/github/singaravelan/TensorFlow_programming/blob/main/4.%20HandwritingRecognition.ipynb\" target=\"_parent\"><img src=\"https://colab.research.google.com/assets/colab-badge.svg\" alt=\"Open In Colab\"/></a>"
      ]
    },
    {
      "cell_type": "code",
      "execution_count": null,
      "metadata": {
        "id": "BaVsUf0ba52K"
      },
      "outputs": [],
      "source": [
        "import tensorflow as tf\n",
        "import os\n",
        "import matplotlib.pyplot as plt\n",
        "import numpy as np"
      ]
    },
    {
      "cell_type": "code",
      "execution_count": null,
      "metadata": {
        "id": "_7No_LIQa52M",
        "outputId": "e1de490b-28f8-4ec6-8a1a-0aa5414f8967"
      },
      "outputs": [
        {
          "name": "stdout",
          "output_type": "stream",
          "text": [
            "Number of training examples: 60000\n",
            "Number of test examples: 10000\n",
            "Input shape: (28, 28, 1)\n",
            "Number of classes: 10\n",
            "Batch shape: (32, 28, 28, 1)\n",
            "Labels shape: (32,)\n"
          ]
        }
      ],
      "source": [
        "# Load MNIST dataset\n",
        "(x_train, y_train), (x_test, y_test) = tf.keras.datasets.mnist.load_data()\n",
        "\n",
        "# Normalize pixel values to be between 0 and 1\n",
        "x_train, x_test = x_train / 255.0, x_test / 255.0\n",
        "\n",
        "# Add a channel dimension to the data (required for Conv2D layers)\n",
        "x_train = x_train[..., tf.newaxis]\n",
        "x_test = x_test[..., tf.newaxis]\n",
        "\n",
        "# Create TensorFlow datasets\n",
        "train_ds = tf.data.Dataset.from_tensor_slices((x_train, y_train))\n",
        "test_ds = tf.data.Dataset.from_tensor_slices((x_test, y_test))\n",
        "\n",
        "# Shuffle and batch the datasets\n",
        "batch_size = 32\n",
        "train_ds = train_ds.shuffle(buffer_size=60000).batch(batch_size)\n",
        "test_ds = test_ds.batch(batch_size)\n",
        "\n",
        "# Display dataset information\n",
        "print(\"Number of training examples:\", len(x_train))\n",
        "print(\"Number of test examples:\", len(x_test))\n",
        "print(\"Input shape:\", x_train[0].shape)\n",
        "print(\"Number of classes:\", len(set(y_train)))\n",
        "\n",
        "# Example of using the dataset\n",
        "for images, labels in train_ds.take(1):\n",
        "    print(\"Batch shape:\", images.shape)\n",
        "    print(\"Labels shape:\", labels.shape)"
      ]
    },
    {
      "cell_type": "code",
      "execution_count": null,
      "metadata": {
        "id": "pXUhj4gSa52O"
      },
      "outputs": [],
      "source": [
        "def plot_images(image_arr):\n",
        "    fig, axes = plt.subplots(1, 5, figsize=(20, 20))\n",
        "    axes = axes.flatten()\n",
        "    for img, ax in zip(image_arr, axes):\n",
        "        ax.imshow(img)\n",
        "    plt.tight_layout()\n",
        "    plt.show()"
      ]
    },
    {
      "cell_type": "code",
      "execution_count": null,
      "metadata": {
        "id": "cYnmV787a52P",
        "outputId": "c4dc5798-e2f5-4ad2-d0f4-5dfbc94cba33"
      },
      "outputs": [
        {
          "data": {
            "image/png": "[encoded data removed]",
            "text/plain": [
              "<Figure size 2000x2000 with 5 Axes>"
            ]
          },
          "metadata": {},
          "output_type": "display_data"
        }
      ],
      "source": [
        "for images, labels in train_ds.take(1):\n",
        "    plot_images(images.numpy())"
      ]
    },
    {
      "cell_type": "code",
      "execution_count": null,
      "metadata": {
        "id": "WX-5hg1oa52P",
        "outputId": "565ac635-efd4-4d76-c514-2f525f08ab46"
      },
      "outputs": [
        {
          "name": "stdout",
          "output_type": "stream",
          "text": [
            "Model: \"sequential_4\"\n",
            "_________________________________________________________________\n",
            " Layer (type)                Output Shape              Param #   \n",
            "=================================================================\n",
            " conv2d_16 (Conv2D)          (None, 26, 26, 32)        320       \n",
            "                                                                 \n",
            " max_pooling2d_16 (MaxPooli  (None, 13, 13, 32)        0         \n",
            " ng2D)                                                           \n",
            "                                                                 \n",
            " conv2d_17 (Conv2D)          (None, 11, 11, 64)        18496     \n",
            "                                                                 \n",
            " max_pooling2d_17 (MaxPooli  (None, 5, 5, 64)          0         \n",
            " ng2D)                                                           \n",
            "                                                                 \n",
            " dropout_3 (Dropout)         (None, 5, 5, 64)          0         \n",
            "                                                                 \n",
            " flatten_4 (Flatten)         (None, 1600)              0         \n",
            "                                                                 \n",
            " dense_8 (Dense)             (None, 512)               819712    \n",
            "                                                                 \n",
            " dense_9 (Dense)             (None, 10)                5130      \n",
            "                                                                 \n",
            "=================================================================\n",
            "Total params: 843658 (3.22 MB)\n",
            "Trainable params: 843658 (3.22 MB)\n",
            "Non-trainable params: 0 (0.00 Byte)\n",
            "_________________________________________________________________\n"
          ]
        }
      ],
      "source": [
        "import tensorflow as tf\n",
        "\n",
        "model = tf.keras.models.Sequential([\n",
        "    tf.keras.layers.Conv2D(32, (3, 3), activation='relu', input_shape=(28, 28, 1)),\n",
        "    tf.keras.layers.MaxPooling2D(2, 2),\n",
        "\n",
        "    tf.keras.layers.Conv2D(64, (3, 3), activation='relu'),\n",
        "    tf.keras.layers.MaxPooling2D(2, 2),\n",
        "\n",
        "    tf.keras.layers.Dropout(0.5),\n",
        "    tf.keras.layers.Flatten(),\n",
        "    tf.keras.layers.Dense(512, activation='relu'),\n",
        "    tf.keras.layers.Dense(10, activation='softmax')  # Assuming 5 classes, change to your actual number of classes\n",
        "])\n",
        "\n",
        "model.summary()\n"
      ]
    },
    {
      "cell_type": "code",
      "execution_count": null,
      "metadata": {
        "id": "i8vZtG_xa52Q"
      },
      "outputs": [],
      "source": [
        "model.compile(optimizer='adam',\n",
        "              loss=tf.keras.losses.SparseCategoricalCrossentropy(from_logits=True),metrics=['accuracy'])"
      ]
    },
    {
      "cell_type": "code",
      "execution_count": null,
      "metadata": {
        "id": "ZwDrn66Na52Q",
        "outputId": "ac986dc7-32ef-48e0-e45e-5e7cbbf8f828"
      },
      "outputs": [
        {
          "name": "stdout",
          "output_type": "stream",
          "text": [
            "Epoch 1/100\n"
          ]
        },
        {
          "name": "stderr",
          "output_type": "stream",
          "text": [
            "/Users/singaravelang/Documents/Learning/ml_env/lib/python3.11/site-packages/keras/src/backend.py:5727: UserWarning: \"`sparse_categorical_crossentropy` received `from_logits=True`, but the `output` argument was produced by a Softmax activation and thus does not represent logits. Was this intended?\n",
            "  output, from_logits = _get_logits(\n"
          ]
        },
        {
          "name": "stdout",
          "output_type": "stream",
          "text": [
            "1875/1875 [==============================] - 13s 7ms/step - loss: 0.1429 - accuracy: 0.9554 - val_loss: 0.0435 - val_accuracy: 0.9856\n",
            "Epoch 2/100\n",
            "1875/1875 [==============================] - 13s 7ms/step - loss: 0.0582 - accuracy: 0.9815 - val_loss: 0.0287 - val_accuracy: 0.9897\n",
            "Epoch 3/100\n",
            "1875/1875 [==============================] - 13s 7ms/step - loss: 0.0448 - accuracy: 0.9855 - val_loss: 0.0283 - val_accuracy: 0.9912\n",
            "Epoch 4/100\n",
            "1875/1875 [==============================] - 13s 7ms/step - loss: 0.0361 - accuracy: 0.9886 - val_loss: 0.0250 - val_accuracy: 0.9913\n",
            "Epoch 5/100\n",
            "1875/1875 [==============================] - 14s 7ms/step - loss: 0.0306 - accuracy: 0.9902 - val_loss: 0.0228 - val_accuracy: 0.9924\n",
            "Epoch 6/100\n",
            "1875/1875 [==============================] - 14s 7ms/step - loss: 0.0272 - accuracy: 0.9914 - val_loss: 0.0224 - val_accuracy: 0.9929\n",
            "Epoch 7/100\n",
            "1875/1875 [==============================] - 14s 7ms/step - loss: 0.0234 - accuracy: 0.9923 - val_loss: 0.0230 - val_accuracy: 0.9930\n",
            "Epoch 8/100\n",
            "1875/1875 [==============================] - 14s 7ms/step - loss: 0.0221 - accuracy: 0.9929 - val_loss: 0.0207 - val_accuracy: 0.9941\n",
            "Epoch 9/100\n",
            "1875/1875 [==============================] - 14s 7ms/step - loss: 0.0197 - accuracy: 0.9935 - val_loss: 0.0258 - val_accuracy: 0.9929\n",
            "Epoch 10/100\n",
            "1875/1875 [==============================] - 14s 7ms/step - loss: 0.0174 - accuracy: 0.9944 - val_loss: 0.0211 - val_accuracy: 0.9935\n",
            "Epoch 11/100\n",
            "1875/1875 [==============================] - 14s 8ms/step - loss: 0.0179 - accuracy: 0.9941 - val_loss: 0.0264 - val_accuracy: 0.9917\n",
            "Epoch 12/100\n",
            "1875/1875 [==============================] - 14s 7ms/step - loss: 0.0144 - accuracy: 0.9953 - val_loss: 0.0223 - val_accuracy: 0.9935\n",
            "Epoch 13/100\n",
            "1875/1875 [==============================] - 13s 7ms/step - loss: 0.0143 - accuracy: 0.9956 - val_loss: 0.0275 - val_accuracy: 0.9924\n",
            "Epoch 14/100\n",
            "1875/1875 [==============================] - 13s 7ms/step - loss: 0.0157 - accuracy: 0.9949 - val_loss: 0.0271 - val_accuracy: 0.9928\n",
            "Epoch 15/100\n",
            "1875/1875 [==============================] - 13s 7ms/step - loss: 0.0122 - accuracy: 0.9959 - val_loss: 0.0259 - val_accuracy: 0.9934\n",
            "Epoch 16/100\n",
            "1875/1875 [==============================] - 14s 7ms/step - loss: 0.0143 - accuracy: 0.9952 - val_loss: 0.0274 - val_accuracy: 0.9925\n",
            "Epoch 17/100\n",
            "1875/1875 [==============================] - 14s 7ms/step - loss: 0.0122 - accuracy: 0.9962 - val_loss: 0.0291 - val_accuracy: 0.9926\n",
            "Epoch 18/100\n",
            "1875/1875 [==============================] - 13s 7ms/step - loss: 0.0135 - accuracy: 0.9958 - val_loss: 0.0297 - val_accuracy: 0.9922\n"
          ]
        }
      ],
      "source": [
        "EPOCHS = 100\n",
        "callback = tf.keras.callbacks.EarlyStopping(monitor='val_accuracy',\n",
        "                                            patience=10)\n",
        "\n",
        "history = model.fit(\n",
        "    train_ds,\n",
        "    epochs=EPOCHS,\n",
        "    validation_data=test_ds,\n",
        "    callbacks=[callback]\n",
        ")"
      ]
    },
    {
      "cell_type": "code",
      "execution_count": null,
      "metadata": {
        "id": "Evioqq-Pa52Q",
        "outputId": "4aac472c-fdda-4e63-fdcb-27e370043493"
      },
      "outputs": [
        {
          "name": "stdout",
          "output_type": "stream",
          "text": [
            "1/1 [==============================] - 0s 108ms/step\n",
            "Image: Unknown.png, Predicted Class: 3\n",
            "1/1 [==============================] - 0s 8ms/step\n",
            "Image: imagess.png, Predicted Class: 3\n",
            "1/1 [==============================] - 0s 8ms/step\n",
            "Image: Unknown.jpeg, Predicted Class: 8\n",
            "1/1 [==============================] - 0s 8ms/step\n",
            "Image: images.png, Predicted Class: 2\n"
          ]
        }
      ],
      "source": [
        "from tensorflow.keras.preprocessing.image import load_img, img_to_array\n",
        "import pathlib\n",
        "\n",
        "# Replace '/tmp/images' with the actual path to your directory containing test images\n",
        "image_directory = pathlib.Path('/tmp/images')\n",
        "images = os.listdir(image_directory)\n",
        "\n",
        "for i in images:\n",
        "    # predicting images\n",
        "    path = os.path.join(image_directory, i)\n",
        "    img = load_img(path, target_size=(28, 28), color_mode='grayscale')  # Adjust target_size and color_mode as needed\n",
        "    x = img_to_array(img)\n",
        "    x /= 255.0\n",
        "    x = np.expand_dims(x, axis=0)\n",
        "\n",
        "    images = np.vstack([x])\n",
        "    classes = model.predict(images, batch_size=10)\n",
        "\n",
        "    # Assuming it's a classification task, you can get the predicted class index\n",
        "    predicted_class = np.argmax(classes, axis=1)[0]\n",
        "\n",
        "    print(f\"Image: {i}, Predicted Class: {predicted_class}\")"
      ]
    },
    {
      "cell_type": "code",
      "execution_count": null,
      "metadata": {
        "id": "Pp8u7WvLa52R"
      },
      "outputs": [],
      "source": []
    }
  ],
  "metadata": {
    "kernelspec": {
      "display_name": "ml_env",
      "language": "python",
      "name": "python3"
    },
    "language_info": {
      "codemirror_mode": {
        "name": "ipython",
        "version": 3
      },
      "file_extension": ".py",
      "mimetype": "text/x-python",
      "name": "python",
      "nbconvert_exporter": "python",
      "pygments_lexer": "ipython3",
      "version": "3.11.5"
    },
    "colab": {
      "provenance": [],
      "include_colab_link": true
    }
  },
  "nbformat": 4,
  "nbformat_minor": 0
}